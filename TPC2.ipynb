{
 "cells": [
  {
   "cell_type": "code",
   "execution_count": null,
   "metadata": {},
   "outputs": [],
   "source": [
    "# -*- coding: utf-8 -*-\n",
    "\"\"\"\n",
    "Created on Tue Oct 12 02:16:04 2021\n",
    "\n",
    "@author: MV\n",
    "\"\"\"\n",
    "import math\n",
    "\n",
    "M=0\n",
    "m=0\n",
    "c=50\n",
    "n=1\n",
    "L=[0,100]\n",
    "v=float(input(\"Escolha um número e ntre 0 e 100 para o computador tentar adivinhar: \"))\n",
    "while c!=v:\n",
    "    L.append(c)\n",
    "    m=min(L)\n",
    "    M=max(L)\n",
    "    if c==v:\n",
    "        print(\"Acabou\")\n",
    "    elif c<v:\n",
    "        L.remove(m)\n",
    "        c=(sum(L))/2\n",
    "        c=math.ceil(c)\n",
    "    elif c>v:\n",
    "        L.remove(M)\n",
    "        c=(sum(L))/2\n",
    "        c=math.floor(c)\n",
    "    n=n+1\n",
    "print(\"O número\",int(v),\"escolhido pelo utilizador foi encontrado pelo computador em\",n,\"tentativas.\")"
   ]
  }
 ],
 "metadata": {
  "kernelspec": {
   "display_name": "Python 3",
   "language": "python",
   "name": "python3"
  },
  "language_info": {
   "codemirror_mode": {
    "name": "ipython",
    "version": 3
   },
   "file_extension": ".py",
   "mimetype": "text/x-python",
   "name": "python",
   "nbconvert_exporter": "python",
   "pygments_lexer": "ipython3",
   "version": "3.8.3"
  }
 },
 "nbformat": 4,
 "nbformat_minor": 4
}
